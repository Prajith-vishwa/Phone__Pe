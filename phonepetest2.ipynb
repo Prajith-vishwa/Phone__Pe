{
 "cells": [
  {
   "cell_type": "code",
   "execution_count": 1,
   "id": "22002444",
   "metadata": {},
   "outputs": [],
   "source": [
    "import psycopg2\n",
    "import pandas as pd\n",
    "import plotly.express as px\n",
    "import requests\n",
    "import json"
   ]
  },
  {
   "cell_type": "markdown",
   "id": "83cc5b63",
   "metadata": {},
   "source": [
    "# Dataframe creation"
   ]
  },
  {
   "cell_type": "code",
   "execution_count": 2,
   "id": "329275c2",
   "metadata": {},
   "outputs": [],
   "source": [
    "#sql connection\n",
    "mydb= psycopg2.connect(host= \"localhost\",\n",
    "                       user= \"postgres\",\n",
    "                       port= \"5432\",\n",
    "                       database= \"phonepe_data\",\n",
    "                       password= \"****\")\n",
    "cursor= mydb.cursor()\n",
    "\n",
    "#agg_insurance_df\n",
    "cursor.execute(\"SELECT * FROM agg_insurance\")\n",
    "mydb.commit()\n",
    "table1= cursor.fetchall()\n",
    "\n",
    "Agg_insurance= pd.DataFrame(table1, columns=(\"States\", \"Years\", \"Quarter\",\"Transaction_type\",\n",
    "                                             \"Transaction_count\", \"Transaction_amount\"))\n",
    "\n",
    "#agg_transaction_df\n",
    "cursor.execute(\"SELECT * FROM agg_transaction\")\n",
    "mydb.commit()\n",
    "table2= cursor.fetchall()\n",
    "\n",
    "Agg_transaction= pd.DataFrame(table2, columns=(\"States\", \"Years\", \"Quarter\",\"Transaction_type\",\n",
    "                                             \"Transaction_count\", \"Transaction_amount\"))\n",
    "\n",
    "#agg_user_df\n",
    "cursor.execute(\"SELECT * FROM agg_user\")\n",
    "mydb.commit()\n",
    "table3= cursor.fetchall()\n",
    "\n",
    "Agg_user= pd.DataFrame(table3, columns=(\"States\", \"Years\", \"Quarter\",\"Brands\",\n",
    "                                             \"Transaction_count\", \"Percentage\"))\n",
    "\n",
    "\n",
    "#map_insurance_df\n",
    "cursor.execute(\"SELECT * FROM map_insurance\")\n",
    "mydb.commit()\n",
    "table4= cursor.fetchall()\n",
    "\n",
    "Map_insurance= pd.DataFrame(table4, columns=(\"States\", \"Years\", \"Quarter\",\"Districts\",\n",
    "                                             \"Transaction_count\", \"Transaction_amount\"))\n",
    "\n",
    "#map_transaction_df\n",
    "cursor.execute(\"SELECT * FROM map_trans\")\n",
    "mydb.commit()\n",
    "table5= cursor.fetchall()\n",
    "\n",
    "Map_trans= pd.DataFrame(table5, columns=(\"States\", \"Years\", \"Quarter\",\"Districts\",\n",
    "                                             \"Transaction_count\", \"Transaction_amount\"))\n",
    "\n",
    "\n",
    "#map_users_df\n",
    "cursor.execute(\"SELECT * FROM map_users\")\n",
    "mydb.commit()\n",
    "table6= cursor.fetchall()\n",
    "\n",
    "Map_users= pd.DataFrame(table6, columns=(\"States\", \"Years\", \"Quarter\",\"Districts\",\n",
    "                                             \"RegisteredUsers\", \"AppOpens\"))\n",
    "\n",
    "#top_insurance_df\n",
    "cursor.execute(\"SELECT * FROM top_insurance\")\n",
    "mydb.commit()\n",
    "table7= cursor.fetchall()\n",
    "\n",
    "Top_insurance= pd.DataFrame(table7, columns=(\"States\", \"Years\", \"Quarter\",\" Pincode\",\n",
    "                                             \"Transaction_count\", \"Transaction_amount\"))\n",
    "\n",
    "#top_transaction_df\n",
    "cursor.execute(\"SELECT * FROM top_transaction\")\n",
    "mydb.commit()\n",
    "table8= cursor.fetchall()\n",
    "\n",
    "Top_transaction= pd.DataFrame(table8, columns=(\"States\", \"Years\", \"Quarter\",\" Pincode\",\n",
    "                                             \"Transaction_count\", \"Transaction_amount\"))\n",
    "\n",
    "\n",
    "#top_user_df\n",
    "cursor.execute(\"SELECT * FROM top_user\")\n",
    "mydb.commit()\n",
    "table9= cursor.fetchall()\n",
    "\n",
    "Top_user= pd.DataFrame(table9, columns=(\"States\", \"Years\", \"Quarter\",\" Pincode\",\n",
    "                                             \"RegisteredUsers\"))\n",
    "\n",
    "\n"
   ]
  },
  {
   "cell_type": "code",
   "execution_count": 3,
   "id": "9c294d7a",
   "metadata": {},
   "outputs": [],
   "source": [
    "#Transaction_Year_Based\n",
    "\n",
    "def Transaction_amount_count_Y(df, year):\n",
    "    tacy = df[df[\"Years\"] == year]\n",
    "    tacy.reset_index(drop= True, inplace= True)\n",
    "\n",
    "    tacyg = tacy.groupby(\"States\")[[\"Transaction_count\", \"Transaction_amount\"]].sum()\n",
    "    tacyg.reset_index(inplace=True)\n",
    "\n",
    "    fig_amount= px.bar(tacyg, x=\"States\", y=\"Transaction_amount\", title=f\"{year} TRANSACTION AMOUNT\",\n",
    "                    color_discrete_sequence=px.colors.sequential.Aggrnyl, height= 650, width= 600)\n",
    "    fig_amount.show()\n",
    "\n",
    "\n",
    "    fig_count= px.bar(tacyg, x=\"States\", y=\"Transaction_count\", title=f\"{year} TRANSACTION COUNT\",\n",
    "                    color_discrete_sequence=px.colors.sequential.Bluered, height= 650, width= 600)\n",
    "    fig_count.show()\n",
    "\n",
    "\n",
    "    url= \"https://gist.githubusercontent.com/jbrobst/56c13bbbf9d97d187fea01ca62ea5112/raw/e388c4cae20aa53cb5090210a42ebb9b765c0a36/india_states.geojson\"\n",
    "    response= requests.get(url)\n",
    "    data1= json.loads(response.content)\n",
    "    states_name= []\n",
    "    for feature in data1[\"features\"]:\n",
    "        states_name.append(feature[\"properties\"][\"ST_NM\"])\n",
    "\n",
    "    states_name.sort()\n",
    "\n",
    "    fig_india_1= px.choropleth(tacyg, geojson=data1, locations=\"States\", featureidkey= \"properties.ST_NM\",\n",
    "                               color=\"Transaction_amount\", color_continuous_scale= \"Rainbow\", \n",
    "                               range_color=(tacyg[\"Transaction_amount\"].min(), tacyg[\"Transaction_amount\"].max()),\n",
    "                               hover_name= \"States\", title= f\"{year} TRANSACTION AMOUNT\", fitbounds= \"locations\",\n",
    "                               height= 600, width= 600)\n",
    "    fig_india_1.update_geos(visible= False)\n",
    "    fig_india_1.show()\n",
    "\n",
    "    fig_india_2= px.choropleth(tacyg, geojson=data1, locations=\"States\", featureidkey= \"properties.ST_NM\",\n",
    "                               color=\"Transaction_count\", color_continuous_scale= \"Rainbow\", \n",
    "                               range_color=(tacyg[\"Transaction_count\"].min(), tacyg[\"Transaction_count\"].max()),\n",
    "                               hover_name= \"States\", title= f\"{year} TRANSACTION COUNT\", fitbounds= \"locations\",\n",
    "                               height= 600, width= 600)\n",
    "    fig_india_2.update_geos(visible= False)\n",
    "    fig_india_2.show()\n",
    "\n",
    "    return tacy"
   ]
  },
  {
   "cell_type": "code",
   "execution_count": 4,
   "id": "6e06c05c",
   "metadata": {},
   "outputs": [],
   "source": [
    "#Transaction_Quarter_Based\n",
    "\n",
    "def Transaction_amount_count_Y_Q(df, quarter):\n",
    "    tacy = df[df[\"Quarter\"] == quarter]\n",
    "    tacy.reset_index(drop= True, inplace= True)\n",
    "\n",
    "    tacyg = tacy.groupby(\"States\")[[\"Transaction_count\", \"Transaction_amount\"]].sum()\n",
    "    tacyg.reset_index(inplace=True)\n",
    "\n",
    "    fig_amount= px.bar(tacyg, x=\"States\", y=\"Transaction_amount\", title=f\"{tacy['Years'].unique()} YEAR {quarter} QUARTER TRANSACTION AMOUNT\",\n",
    "                    color_discrete_sequence=px.colors.sequential.Aggrnyl, height= 650, width= 600)\n",
    "    fig_amount.show()\n",
    "\n",
    "\n",
    "    fig_count= px.bar(tacyg, x=\"States\", y=\"Transaction_count\", title=f\"{tacy['Years'].unique()} YEAR {quarter} QUARTER TRANSACTION COUNT\",\n",
    "                    color_discrete_sequence=px.colors.sequential.Bluered, height= 650, width= 600)\n",
    "    fig_count.show()\n",
    "\n",
    "\n",
    "    url= \"https://gist.githubusercontent.com/jbrobst/56c13bbbf9d97d187fea01ca62ea5112/raw/e388c4cae20aa53cb5090210a42ebb9b765c0a36/india_states.geojson\"\n",
    "    response= requests.get(url)\n",
    "    data1= json.loads(response.content)\n",
    "    states_name= []\n",
    "    for feature in data1[\"features\"]:\n",
    "        states_name.append(feature[\"properties\"][\"ST_NM\"])\n",
    "\n",
    "    states_name.sort()\n",
    "\n",
    "    fig_india_1= px.choropleth(tacyg, geojson=data1, locations=\"States\", featureidkey= \"properties.ST_NM\",\n",
    "                               color=\"Transaction_amount\", color_continuous_scale= \"Rainbow\", \n",
    "                               range_color=(tacyg[\"Transaction_amount\"].min(), tacyg[\"Transaction_amount\"].max()),\n",
    "                               hover_name= \"States\", title= f\"{tacy['Years'].unique()} YEAR {quarter} QUARTER TRANSACTION AMOUNT\", fitbounds= \"locations\",\n",
    "                               height= 600, width= 600)\n",
    "    fig_india_1.update_geos(visible= False)\n",
    "    fig_india_1.show()\n",
    "\n",
    "    fig_india_2= px.choropleth(tacyg, geojson=data1, locations=\"States\", featureidkey= \"properties.ST_NM\",\n",
    "                               color=\"Transaction_count\", color_continuous_scale= \"Rainbow\", \n",
    "                               range_color=(tacyg[\"Transaction_count\"].min(), tacyg[\"Transaction_count\"].max()),\n",
    "                               hover_name= \"States\", title= f\"{tacy['Years'].unique()} YEAR {quarter} QUARTERTRANSACTION COUNT\", fitbounds= \"locations\",\n",
    "                               height= 600, width= 600)\n",
    "    fig_india_2.update_geos(visible= False)\n",
    "    fig_india_2.show()\n",
    "\n",
    "    return tacy\n"
   ]
  },
  {
   "cell_type": "code",
   "execution_count": 5,
   "id": "7c76e2ea",
   "metadata": {},
   "outputs": [],
   "source": [
    "#Transaction_Type\n",
    "\n",
    "def Agg_Tran_Transaction_type(df, state):\n",
    "\n",
    "    tacy = df[df[\"States\"] == state]\n",
    "    tacy.reset_index(drop= True, inplace= True)\n",
    "\n",
    "    tacyg = tacy.groupby(\"Transaction_type\")[[\"Transaction_count\", \"Transaction_amount\"]].sum()\n",
    "    tacyg.reset_index(inplace=True)\n",
    "\n",
    "\n",
    "    fig_pie_1= px.pie(data_frame= tacyg, names= \"Transaction_type\", values= \"Transaction_amount\",\n",
    "                      width= 600, title= f\"{state.upper()} TRANSACTION AMOUNT\", hole= 0.3)\n",
    "    fig_pie_1.show()\n",
    "\n",
    "    fig_pie_2= px.pie(data_frame= tacyg, names= \"Transaction_type\", values= \"Transaction_count\",\n",
    "                      width= 600, title= f\"{state.upper()} TRANSACTION COUNT\", hole= 0.3)\n",
    "    fig_pie_2.show()"
   ]
  },
  {
   "cell_type": "code",
   "execution_count": 6,
   "id": "0f1f71b8",
   "metadata": {},
   "outputs": [],
   "source": [
    "#Agg_User_1\n",
    "\n",
    "def Agg_User_plot_1(df, year):\n",
    "    aguy= df[df[\"Years\"]== year]\n",
    "    aguy.reset_index(drop= True, inplace= True)\n",
    "\n",
    "    aguyg= pd.DataFrame(aguy.groupby(\"Brands\")[\"Transaction_count\"].sum())\n",
    "    aguyg.reset_index(inplace= True)\n",
    "\n",
    "    fig_bar_1= px.bar(aguyg, x= \"Brands\", y= \"Transaction_count\", title= f\"{year} BRANDS AND TRANSACTION COUNT\",\n",
    "                    width=1000, color_discrete_sequence= px.colors.sequential.Agsunset_r, hover_name= \"Brands\")\n",
    "    fig_bar_1.show()\n",
    "\n",
    "    return aguy"
   ]
  },
  {
   "cell_type": "code",
   "execution_count": 7,
   "id": "415511f6",
   "metadata": {},
   "outputs": [],
   "source": [
    "#Agg_user_2\n",
    "def Agg_User_plot_2(df, quarter):\n",
    "    aguyq= df[df[\"Quarter\"]== quarter]\n",
    "    aguyq.reset_index(drop= True, inplace= True)\n",
    "\n",
    "    aguyqg= pd.DataFrame(aguyq.groupby(\"Brands\")[\"Transaction_count\"].sum())\n",
    "    aguyqg.reset_index(inplace= True)\n",
    "\n",
    "\n",
    "    fig_bar_1= px.bar(aguyqg, x= \"Brands\", y= \"Transaction_count\", title= f\"{quarter} QUARTER, BRANDS AND TRANSACTION COUNT\",\n",
    "                    width=1000, color_discrete_sequence= px.colors.sequential.Agsunset_r, hover_name= \"Brands\")\n",
    "    fig_bar_1.show()\n",
    "\n",
    "    return aguyq"
   ]
  },
  {
   "cell_type": "code",
   "execution_count": 8,
   "id": "feb69245",
   "metadata": {},
   "outputs": [],
   "source": [
    "#Agg_user_3\n",
    "def Agg_User_plot_3(df, state):\n",
    "    auyqs= df[df[\"States\"] == state]\n",
    "    auyqs.reset_index(drop= True, inplace=True)\n",
    "    \n",
    "    fig_line_1= px.line(auyqs, x= \"Brands\", y= \"Transaction_count\", hover_data= \"Percentage\",\n",
    "                        title= f\"{state.upper()} BRANDS, TRANSACTION AMOUNT, PERCENTAGE\",width=1000, markers= True)\n",
    "    fig_line_1.show()"
   ]
  },
  {
   "cell_type": "code",
   "execution_count": 9,
   "id": "393cb60b",
   "metadata": {},
   "outputs": [],
   "source": [
    "#Map_insurance_districts\n",
    "\n",
    "def Map_ins_Districts(df, state):\n",
    "\n",
    "    tacy = df[df[\"States\"] == state]\n",
    "    tacy.reset_index(drop= True, inplace= True)\n",
    "\n",
    "    tacyg = tacy.groupby(\"Districts\")[[\"Transaction_count\", \"Transaction_amount\"]].sum()\n",
    "    tacyg.reset_index(inplace=True)\n",
    "\n",
    "\n",
    "    fig_bar_1= px.bar(tacyg, x= \"Transaction_amount\", y= \"Districts\", orientation= \"h\",\n",
    "                      title= f\"{state.upper()} DISTRICTS AND TRANSACTION AMOUNT\", color_discrete_sequence= px.colors.sequential.deep_r)\n",
    "    fig_bar_1.show()\n",
    "\n",
    "    fig_bar_2= px.bar(tacyg, x= \"Transaction_count\", y= \"Districts\", orientation= \"h\",\n",
    "                      title= f\"{state.upper()} DISTRICTS AND TRANSACTION COUNT\", color_discrete_sequence= px.colors.sequential.amp_r)\n",
    "    fig_bar_2.show()"
   ]
  },
  {
   "cell_type": "code",
   "execution_count": null,
   "id": "50eceea1",
   "metadata": {},
   "outputs": [],
   "source": [
    "# Map_user_plot_1\n",
    "def Map_user_plot_1(df, year):\n",
    "    muy= df[df[\"Years\"]== year]\n",
    "    muy.reset_index(drop= True, inplace= True)\n",
    "\n",
    "    muyg=muy.groupby(\"States\")[[\"RegisteredUsers\", \"AppOpens\"]].sum()\n",
    "    muyg.reset_index(inplace= True)\n",
    "\n",
    "    fig_line_1= px.line(muyg, x= \"States\", y= [\"RegisteredUsers\", \"AppOpens\"],\n",
    "                        title= f\"{year} REGISTERED USERS AND APPOPENS\",width=1000, height=800, markers= True)\n",
    "    fig_line_1.show()\n",
    "\n",
    "    return muy"
   ]
  },
  {
   "cell_type": "code",
   "execution_count": 11,
   "id": "79dc5a2b",
   "metadata": {},
   "outputs": [],
   "source": [
    "# Map_user_plot_2\n",
    "def Map_user_plot_2(df, quarter):\n",
    "    muyq= df[df[\"Quarter\"]== quarter]\n",
    "    muyq.reset_index(drop= True, inplace= True)\n",
    "\n",
    "    muyqg=muyq.groupby(\"States\")[[\"RegisteredUsers\", \"AppOpens\"]].sum()\n",
    "    muyqg.reset_index(inplace= True)\n",
    "\n",
    "    fig_line_1= px.line(muyqg, x= \"States\", y= [\"RegisteredUsers\", \"AppOpens\"],\n",
    "                        title= f\"{df['Years'].min()} YEAR {quarter} QUARETER REGISTERED USERS AND APPOPENS\",width=1000, height=800, markers= True,\n",
    "                        color_discrete_sequence= px.colors.sequential.Rainbow_r)\n",
    "    fig_line_1.show()\n",
    "\n",
    "    return muyq"
   ]
  },
  {
   "cell_type": "code",
   "execution_count": 12,
   "id": "b82121b8",
   "metadata": {},
   "outputs": [],
   "source": [
    "#Map_user_plot_3\n",
    "def Map_user_plot_3(df, states):\n",
    "    muyqs= df[df[\"States\"]== states]\n",
    "    muyqs.reset_index(drop= True, inplace= True)\n",
    "\n",
    "    fig_map_user_bar_1= px.bar(muyqs, x= \"RegisteredUsers\", y= \"Districts\", orientation= \"h\",\n",
    "                            title= \"REGISTERED USER\", height=800, color_discrete_sequence= px.colors.sequential.Bluered)\n",
    "    fig_map_user_bar_1.show()\n",
    "\n",
    "    fig_map_user_bar_2= px.bar(muyqs, x= \"AppOpens\", y= \"Districts\", orientation= \"h\",\n",
    "                            title= \"APPOPENS\", height=800, color_discrete_sequence= px.colors.sequential.Bluered_r)\n",
    "    fig_map_user_bar_2.show()"
   ]
  },
  {
   "cell_type": "code",
   "execution_count": 64,
   "id": "0b677b38",
   "metadata": {},
   "outputs": [],
   "source": [
    "#Top_ins_plot_1\n",
    "def Top_ins_plot_1(df, state):\n",
    "    tiy= df[df[\"States\"]== state]\n",
    "    tiy.reset_index(drop= True, inplace= True)\n",
    "\n",
    "\n",
    "    fig_top_ins_bar_1= px.bar(tiy, x= \"Quarter\", y= \"Transaction_amount\", hover_data= \" Pincode\",\n",
    "                            title= \"TRANSACTION AMOUNT\", height=800, color_discrete_sequence= px.colors.sequential.amp_r)\n",
    "    fig_top_ins_bar_1.show()\n",
    "\n",
    "    fig_top_ins_bar_2= px.bar(tiy, x= \"Quarter\", y= \"Transaction_count\", hover_data= \" Pincode\",\n",
    "                            title= \"TRANSACTION COUNT\", height=800, color_discrete_sequence= px.colors.sequential.Agsunset_r)\n",
    "    fig_top_ins_bar_2.show()"
   ]
  },
  {
   "cell_type": "code",
   "execution_count": 84,
   "id": "4bbf2262",
   "metadata": {},
   "outputs": [],
   "source": [
    "#Top_user_plot_1\n",
    "def Top_user_plot_1(df, year):\n",
    "    tuy= df[df[\"Years\"]== year]\n",
    "    tuy.reset_index(drop= True, inplace= True)\n",
    "    tuy\n",
    "\n",
    "    tuyg= pd.DataFrame(tuy.groupby([\"States\", \"Quarter\"])[\"RegisteredUsers\"].sum())\n",
    "    tuyg.reset_index(inplace= True)\n",
    "    tuyg\n",
    "\n",
    "    fig_top_plot_1= px.bar(tuyg, x= \"States\", y= \"RegisteredUsers\", color= \"Quarter\", width=1000, height=800,\n",
    "                        color_discrete_sequence= px.colors.sequential.Blugrn, hover_name= \"States\",\n",
    "                        title= f\"{year} REGISTERED USERS\")\n",
    "    fig_top_plot_1.show()\n",
    "\n",
    "    return tuy"
   ]
  },
  {
   "cell_type": "code",
   "execution_count": 89,
   "id": "63c262fe",
   "metadata": {},
   "outputs": [],
   "source": [
    "#Top_user_plot_2\n",
    "def Top_user_plot_2(df, state):\n",
    "    tuys= df[df[\"States\"]== state]\n",
    "    tuys.reset_index(drop= True, inplace= True)\n",
    "\n",
    "    fig_top_plot_2= px.bar(tuys, x= \"Quarter\", y= \"RegisteredUsers\", title= \"RUPQ\",\n",
    "                        width=1000, height= 800, color= \"RegisteredUsers\", hover_data= \" Pincode\",\n",
    "                        color_continuous_scale= px.colors.sequential.Magenta)\n",
    "    fig_top_plot_2.show()"
   ]
  },
  {
   "cell_type": "markdown",
   "id": "b6b59c91",
   "metadata": {},
   "source": [
    "### Agg_insurance"
   ]
  },
  {
   "cell_type": "code",
   "execution_count": null,
   "id": "0a7e7d7a",
   "metadata": {},
   "outputs": [],
   "source": [
    "tac_Y= Transaction_amount_count_Y(Agg_insurance, 2024)"
   ]
  },
  {
   "cell_type": "code",
   "execution_count": null,
   "id": "df9d81b3",
   "metadata": {},
   "outputs": [],
   "source": [
    "Transaction_amount_count_Y_Q(tac_Y, 2)"
   ]
  },
  {
   "cell_type": "code",
   "execution_count": null,
   "id": "f5575612",
   "metadata": {},
   "outputs": [],
   "source": [
    "tac_Y"
   ]
  },
  {
   "cell_type": "code",
   "execution_count": null,
   "id": "fc7b9a96",
   "metadata": {},
   "outputs": [],
   "source": [
    "Transaction_amount_count_Y(Agg_insurance, 2024)"
   ]
  },
  {
   "cell_type": "markdown",
   "id": "8fbc18e1",
   "metadata": {},
   "source": [
    "### Agg_transaction"
   ]
  },
  {
   "cell_type": "code",
   "execution_count": null,
   "id": "0444de92",
   "metadata": {},
   "outputs": [],
   "source": [
    "Agg_tran_tac_Y= Transaction_amount_count_Y(Agg_transaction, 2024)"
   ]
  },
  {
   "cell_type": "code",
   "execution_count": null,
   "id": "c94b631b",
   "metadata": {},
   "outputs": [],
   "source": [
    "Agg_Tran_Transaction_type(Agg_tran_tac_Y, 'Tamil Nadu')"
   ]
  },
  {
   "cell_type": "code",
   "execution_count": null,
   "id": "bd5fd456",
   "metadata": {},
   "outputs": [],
   "source": [
    "Agg_tran_tac_Y_Q=  Transaction_amount_count_Y_Q(Agg_tran_tac_Y, 2)"
   ]
  },
  {
   "cell_type": "code",
   "execution_count": null,
   "id": "2b3347a4",
   "metadata": {},
   "outputs": [],
   "source": [
    "Agg_Tran_Transaction_type(Agg_tran_tac_Y_Q, 'Maharashtra')"
   ]
  },
  {
   "cell_type": "markdown",
   "id": "0a0c0b9b",
   "metadata": {},
   "source": [
    "### Agg_user"
   ]
  },
  {
   "cell_type": "code",
   "execution_count": null,
   "id": "18cfc37e",
   "metadata": {},
   "outputs": [],
   "source": [
    "Agg_user_Y= Agg_User_plot_1(Agg_user, 2020)"
   ]
  },
  {
   "cell_type": "code",
   "execution_count": null,
   "id": "80df13f7",
   "metadata": {},
   "outputs": [],
   "source": [
    "Agg_user_Y_Q= Agg_User_plot_2(Agg_user_Y, 3)"
   ]
  },
  {
   "cell_type": "code",
   "execution_count": null,
   "id": "8ab62aad",
   "metadata": {},
   "outputs": [],
   "source": [
    "Agg_User_plot_3(Agg_user_Y_Q, \"Andaman & Nicobar\")"
   ]
  },
  {
   "cell_type": "markdown",
   "id": "0c35cc78",
   "metadata": {},
   "source": [
    "### Map_insurance"
   ]
  },
  {
   "cell_type": "code",
   "execution_count": null,
   "id": "3a12a582",
   "metadata": {},
   "outputs": [],
   "source": [
    "Map_ins_tac_Y= Transaction_amount_count_Y(Map_insurance, 2024)"
   ]
  },
  {
   "cell_type": "code",
   "execution_count": null,
   "id": "046ddc2c",
   "metadata": {},
   "outputs": [],
   "source": [
    "Map_ins_Districts(Map_ins_tac_Y, \"West Bengal\")"
   ]
  },
  {
   "cell_type": "code",
   "execution_count": null,
   "id": "d5ff9b05",
   "metadata": {},
   "outputs": [],
   "source": [
    "Map_ins_tac_Y_Q=  Transaction_amount_count_Y_Q(Map_ins_tac_Y, 2)"
   ]
  },
  {
   "cell_type": "code",
   "execution_count": null,
   "id": "0bff501e",
   "metadata": {},
   "outputs": [],
   "source": [
    "Map_ins_Districts(Map_ins_tac_Y_Q, 'Maharashtra')"
   ]
  },
  {
   "cell_type": "markdown",
   "id": "7c7b862d",
   "metadata": {},
   "source": [
    "### Map_transaction"
   ]
  },
  {
   "cell_type": "code",
   "execution_count": null,
   "id": "9180e0c7",
   "metadata": {},
   "outputs": [],
   "source": [
    "Map_tran_tac_Y= Transaction_amount_count_Y(Map_trans, 2023)"
   ]
  },
  {
   "cell_type": "code",
   "execution_count": null,
   "id": "9bb8b85d",
   "metadata": {},
   "outputs": [],
   "source": [
    "Map_ins_Districts(Map_tran_tac_Y, \"West Bengal\")"
   ]
  },
  {
   "cell_type": "code",
   "execution_count": null,
   "id": "5555e221",
   "metadata": {},
   "outputs": [],
   "source": [
    "Map_tran_tac_Y_Q=  Transaction_amount_count_Y_Q(Map_tran_tac_Y, 2)"
   ]
  },
  {
   "cell_type": "code",
   "execution_count": null,
   "id": "4ff434ed",
   "metadata": {},
   "outputs": [],
   "source": [
    "Map_ins_Districts(Map_tran_tac_Y_Q, 'Maharashtra')"
   ]
  },
  {
   "cell_type": "markdown",
   "id": "3b0bb290",
   "metadata": {},
   "source": [
    "### Map_user"
   ]
  },
  {
   "cell_type": "code",
   "execution_count": null,
   "id": "fe4fea45",
   "metadata": {},
   "outputs": [],
   "source": [
    "Map_user_Y= Map_user_plot_1(Map_users, 2020)"
   ]
  },
  {
   "cell_type": "code",
   "execution_count": null,
   "id": "20ff166b",
   "metadata": {},
   "outputs": [],
   "source": [
    "Map_user_Y_Q= Map_user_plot_2(Map_user_Y, 2)"
   ]
  },
  {
   "cell_type": "code",
   "execution_count": null,
   "id": "754f3352",
   "metadata": {},
   "outputs": [],
   "source": [
    "Map_user_plot_3(Map_user_Y_Q, \"West Bengal\")"
   ]
  },
  {
   "cell_type": "markdown",
   "id": "f5253355",
   "metadata": {},
   "source": [
    "### Top_insurance"
   ]
  },
  {
   "cell_type": "code",
   "execution_count": null,
   "id": "9e964e4d",
   "metadata": {},
   "outputs": [],
   "source": [
    "Top_ins_tac_Y= Transaction_amount_count_Y(Top_insurance, 2023)"
   ]
  },
  {
   "cell_type": "code",
   "execution_count": null,
   "id": "85cc9d6b",
   "metadata": {},
   "outputs": [],
   "source": [
    "Top_ins_plot_1(Top_ins_tac_Y, \"West Bengal\")"
   ]
  },
  {
   "cell_type": "code",
   "execution_count": null,
   "id": "5f9db5d5",
   "metadata": {},
   "outputs": [],
   "source": [
    "Top_ins_tac_Y_Q=  Transaction_amount_count_Y_Q(Top_ins_tac_Y, 2)"
   ]
  },
  {
   "cell_type": "markdown",
   "id": "b3e01bda",
   "metadata": {},
   "source": [
    "### Top_transaction"
   ]
  },
  {
   "cell_type": "code",
   "execution_count": null,
   "id": "b53dde46",
   "metadata": {},
   "outputs": [],
   "source": [
    "Top_tran_tac_Y= Transaction_amount_count_Y(Top_transaction, 2023)"
   ]
  },
  {
   "cell_type": "code",
   "execution_count": null,
   "id": "0e2c45cf",
   "metadata": {},
   "outputs": [],
   "source": [
    "Top_ins_plot_1(Top_tran_tac_Y, \"West Bengal\")"
   ]
  },
  {
   "cell_type": "code",
   "execution_count": null,
   "id": "acf2771a",
   "metadata": {},
   "outputs": [],
   "source": [
    "Top_tran_tac_Y_Q=  Transaction_amount_count_Y_Q(Top_tran_tac_Y, 2)"
   ]
  },
  {
   "cell_type": "markdown",
   "id": "244b0b0d",
   "metadata": {},
   "source": [
    "### Top_user"
   ]
  },
  {
   "cell_type": "code",
   "execution_count": null,
   "id": "8b8c4223",
   "metadata": {},
   "outputs": [],
   "source": [
    "Top_user_Y= Top_user_plot_1(Top_user, 2021)"
   ]
  },
  {
   "cell_type": "code",
   "execution_count": null,
   "id": "bd4f5471",
   "metadata": {},
   "outputs": [],
   "source": [
    "Top_user_plot_2(Top_user_Y, \"Tamil Nadu\")"
   ]
  }
 ],
 "metadata": {
  "kernelspec": {
   "display_name": "Python 3",
   "language": "python",
   "name": "python3"
  },
  "language_info": {
   "codemirror_mode": {
    "name": "ipython",
    "version": 3
   },
   "file_extension": ".py",
   "mimetype": "text/x-python",
   "name": "python",
   "nbconvert_exporter": "python",
   "pygments_lexer": "ipython3",
   "version": "3.13.2"
  }
 },
 "nbformat": 4,
 "nbformat_minor": 5
}
